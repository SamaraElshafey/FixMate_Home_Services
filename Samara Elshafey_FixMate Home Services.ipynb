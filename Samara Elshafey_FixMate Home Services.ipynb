{
 "cells": [
  {
   "cell_type": "markdown",
   "metadata": {},
   "source": [
    "# FixMate Home Services\n",
    "Objective: Design an acquisition dashboard to evaluate how service type, campaign timing, and ad spend influence customer sign-ups for urgent home repairs. You can find more details in the attached files.\n",
    "\n",
    "\n",
    "---"
   ]
  },
  {
   "cell_type": "markdown",
   "metadata": {},
   "source": [
    "# Expected Insights\n",
    "Determine which services attract the highest value customers over time.\n",
    "Analyze customer acquisition by hour to find optimal ad delivery windows.\n",
    "\n"
   ]
  },
  {
   "cell_type": "markdown",
   "metadata": {},
   "source": [
    "# 🎯 Target:\n",
    "## Create an acquisition dashboard to evaluate how:\n",
    "\n",
    "* Service type\n",
    "\n",
    "* Campaign timing\n",
    "\n",
    "* Ad spend"
   ]
  },
  {
   "cell_type": "code",
   "execution_count": 1,
   "metadata": {},
   "outputs": [
    {
     "data": {
      "text/html": [
       "<div>\n",
       "<style scoped>\n",
       "    .dataframe tbody tr th:only-of-type {\n",
       "        vertical-align: middle;\n",
       "    }\n",
       "\n",
       "    .dataframe tbody tr th {\n",
       "        vertical-align: top;\n",
       "    }\n",
       "\n",
       "    .dataframe thead th {\n",
       "        text-align: right;\n",
       "    }\n",
       "</style>\n",
       "<table border=\"1\" class=\"dataframe\">\n",
       "  <thead>\n",
       "    <tr style=\"text-align: right;\">\n",
       "      <th></th>\n",
       "      <th>Date</th>\n",
       "      <th>Time</th>\n",
       "      <th>Service Category</th>\n",
       "      <th>Technician</th>\n",
       "      <th>Ad Spend</th>\n",
       "      <th>Conversions</th>\n",
       "      <th>Revenue</th>\n",
       "      <th>Client Type</th>\n",
       "    </tr>\n",
       "  </thead>\n",
       "  <tbody>\n",
       "    <tr>\n",
       "      <th>0</th>\n",
       "      <td>2024-11-14</td>\n",
       "      <td>Morning</td>\n",
       "      <td>Well</td>\n",
       "      <td>Willie</td>\n",
       "      <td>82.56</td>\n",
       "      <td>8</td>\n",
       "      <td>442.24</td>\n",
       "      <td>Loyal</td>\n",
       "    </tr>\n",
       "    <tr>\n",
       "      <th>1</th>\n",
       "      <td>2025-03-31</td>\n",
       "      <td>Evening</td>\n",
       "      <td>Age</td>\n",
       "      <td>Carly</td>\n",
       "      <td>61.71</td>\n",
       "      <td>8</td>\n",
       "      <td>107.26</td>\n",
       "      <td>Loyal</td>\n",
       "    </tr>\n",
       "    <tr>\n",
       "      <th>2</th>\n",
       "      <td>2025-01-14</td>\n",
       "      <td>Evening</td>\n",
       "      <td>Explain</td>\n",
       "      <td>Amy</td>\n",
       "      <td>129.34</td>\n",
       "      <td>10</td>\n",
       "      <td>364.71</td>\n",
       "      <td>New</td>\n",
       "    </tr>\n",
       "    <tr>\n",
       "      <th>3</th>\n",
       "      <td>2025-02-01</td>\n",
       "      <td>Afternoon</td>\n",
       "      <td>Medical</td>\n",
       "      <td>Amy</td>\n",
       "      <td>76.70</td>\n",
       "      <td>3</td>\n",
       "      <td>142.13</td>\n",
       "      <td>New</td>\n",
       "    </tr>\n",
       "    <tr>\n",
       "      <th>4</th>\n",
       "      <td>2024-12-11</td>\n",
       "      <td>Night</td>\n",
       "      <td>A</td>\n",
       "      <td>Larry</td>\n",
       "      <td>122.99</td>\n",
       "      <td>3</td>\n",
       "      <td>354.79</td>\n",
       "      <td>New</td>\n",
       "    </tr>\n",
       "  </tbody>\n",
       "</table>\n",
       "</div>"
      ],
      "text/plain": [
       "         Date       Time Service Category Technician  Ad Spend  Conversions  \\\n",
       "0  2024-11-14    Morning             Well     Willie     82.56            8   \n",
       "1  2025-03-31    Evening              Age      Carly     61.71            8   \n",
       "2  2025-01-14    Evening          Explain        Amy    129.34           10   \n",
       "3  2025-02-01  Afternoon          Medical        Amy     76.70            3   \n",
       "4  2024-12-11      Night                A      Larry    122.99            3   \n",
       "\n",
       "   Revenue Client Type  \n",
       "0   442.24       Loyal  \n",
       "1   107.26       Loyal  \n",
       "2   364.71         New  \n",
       "3   142.13         New  \n",
       "4   354.79         New  "
      ]
     },
     "execution_count": 1,
     "metadata": {},
     "output_type": "execute_result"
    }
   ],
   "source": [
    "#Reading the data and first insights \n",
    "import pandas as pd\n",
    "df= pd.read_csv(\"FixMate_Home_Services.csv\")\n",
    "df.head()\n"
   ]
  },
  {
   "cell_type": "code",
   "execution_count": 2,
   "metadata": {},
   "outputs": [
    {
     "name": "stdout",
     "output_type": "stream",
     "text": [
      "<class 'pandas.core.frame.DataFrame'>\n",
      "RangeIndex: 2000 entries, 0 to 1999\n",
      "Data columns (total 8 columns):\n",
      " #   Column            Non-Null Count  Dtype  \n",
      "---  ------            --------------  -----  \n",
      " 0   Date              2000 non-null   object \n",
      " 1   Time              2000 non-null   object \n",
      " 2   Service Category  1998 non-null   object \n",
      " 3   Technician        2000 non-null   object \n",
      " 4   Ad Spend          2000 non-null   float64\n",
      " 5   Conversions       2000 non-null   int64  \n",
      " 6   Revenue           2000 non-null   float64\n",
      " 7   Client Type       2000 non-null   object \n",
      "dtypes: float64(2), int64(1), object(5)\n",
      "memory usage: 125.1+ KB\n"
     ]
    }
   ],
   "source": [
    "#data information \n",
    "df.info()"
   ]
  },
  {
   "cell_type": "code",
   "execution_count": 3,
   "metadata": {},
   "outputs": [
    {
     "data": {
      "text/html": [
       "<div>\n",
       "<style scoped>\n",
       "    .dataframe tbody tr th:only-of-type {\n",
       "        vertical-align: middle;\n",
       "    }\n",
       "\n",
       "    .dataframe tbody tr th {\n",
       "        vertical-align: top;\n",
       "    }\n",
       "\n",
       "    .dataframe thead th {\n",
       "        text-align: right;\n",
       "    }\n",
       "</style>\n",
       "<table border=\"1\" class=\"dataframe\">\n",
       "  <thead>\n",
       "    <tr style=\"text-align: right;\">\n",
       "      <th></th>\n",
       "      <th>Ad Spend</th>\n",
       "      <th>Conversions</th>\n",
       "      <th>Revenue</th>\n",
       "    </tr>\n",
       "  </thead>\n",
       "  <tbody>\n",
       "    <tr>\n",
       "      <th>count</th>\n",
       "      <td>2000.000000</td>\n",
       "      <td>2000.000000</td>\n",
       "      <td>2000.000000</td>\n",
       "    </tr>\n",
       "    <tr>\n",
       "      <th>mean</th>\n",
       "      <td>77.523485</td>\n",
       "      <td>4.953500</td>\n",
       "      <td>263.962365</td>\n",
       "    </tr>\n",
       "    <tr>\n",
       "      <th>std</th>\n",
       "      <td>41.754023</td>\n",
       "      <td>3.121732</td>\n",
       "      <td>135.363064</td>\n",
       "    </tr>\n",
       "    <tr>\n",
       "      <th>min</th>\n",
       "      <td>5.010000</td>\n",
       "      <td>0.000000</td>\n",
       "      <td>20.330000</td>\n",
       "    </tr>\n",
       "    <tr>\n",
       "      <th>25%</th>\n",
       "      <td>41.202500</td>\n",
       "      <td>2.000000</td>\n",
       "      <td>149.015000</td>\n",
       "    </tr>\n",
       "    <tr>\n",
       "      <th>50%</th>\n",
       "      <td>77.460000</td>\n",
       "      <td>5.000000</td>\n",
       "      <td>269.400000</td>\n",
       "    </tr>\n",
       "    <tr>\n",
       "      <th>75%</th>\n",
       "      <td>113.735000</td>\n",
       "      <td>8.000000</td>\n",
       "      <td>381.325000</td>\n",
       "    </tr>\n",
       "    <tr>\n",
       "      <th>max</th>\n",
       "      <td>149.970000</td>\n",
       "      <td>10.000000</td>\n",
       "      <td>499.940000</td>\n",
       "    </tr>\n",
       "  </tbody>\n",
       "</table>\n",
       "</div>"
      ],
      "text/plain": [
       "          Ad Spend  Conversions      Revenue\n",
       "count  2000.000000  2000.000000  2000.000000\n",
       "mean     77.523485     4.953500   263.962365\n",
       "std      41.754023     3.121732   135.363064\n",
       "min       5.010000     0.000000    20.330000\n",
       "25%      41.202500     2.000000   149.015000\n",
       "50%      77.460000     5.000000   269.400000\n",
       "75%     113.735000     8.000000   381.325000\n",
       "max     149.970000    10.000000   499.940000"
      ]
     },
     "execution_count": 3,
     "metadata": {},
     "output_type": "execute_result"
    }
   ],
   "source": [
    "# data description \n",
    "df.describe()"
   ]
  },
  {
   "cell_type": "code",
   "execution_count": 4,
   "metadata": {},
   "outputs": [
    {
     "data": {
      "text/plain": [
       "Date                 object\n",
       "Time                 object\n",
       "Service Category     object\n",
       "Technician           object\n",
       "Ad Spend            float64\n",
       "Conversions           int64\n",
       "Revenue             float64\n",
       "Client Type          object\n",
       "dtype: object"
      ]
     },
     "execution_count": 4,
     "metadata": {},
     "output_type": "execute_result"
    }
   ],
   "source": [
    "# Data types\n",
    "df.dtypes"
   ]
  },
  {
   "cell_type": "code",
   "execution_count": 20,
   "metadata": {},
   "outputs": [
    {
     "name": "stdout",
     "output_type": "stream",
     "text": [
      "Requirement already satisfied: matplotlib in c:\\users\\powertech\\appdata\\roaming\\python\\python310\\site-packages (3.10.1)\n",
      "Requirement already satisfied: contourpy>=1.0.1 in c:\\users\\powertech\\.conda\\envs\\depi_env\\lib\\site-packages (from matplotlib) (1.3.1)\n",
      "Requirement already satisfied: cycler>=0.10 in c:\\users\\powertech\\.conda\\envs\\depi_env\\lib\\site-packages (from matplotlib) (0.12.1)\n",
      "Requirement already satisfied: fonttools>=4.22.0 in c:\\users\\powertech\\.conda\\envs\\depi_env\\lib\\site-packages (from matplotlib) (4.55.8)\n",
      "Requirement already satisfied: kiwisolver>=1.3.1 in c:\\users\\powertech\\.conda\\envs\\depi_env\\lib\\site-packages (from matplotlib) (1.4.8)\n",
      "Requirement already satisfied: numpy>=1.23 in c:\\users\\powertech\\.conda\\envs\\depi_env\\lib\\site-packages (from matplotlib) (1.26.4)\n",
      "Requirement already satisfied: packaging>=20.0 in c:\\users\\powertech\\.conda\\envs\\depi_env\\lib\\site-packages (from matplotlib) (24.2)\n",
      "Requirement already satisfied: pillow>=8 in c:\\users\\powertech\\.conda\\envs\\depi_env\\lib\\site-packages (from matplotlib) (10.4.0)\n",
      "Requirement already satisfied: pyparsing>=2.3.1 in c:\\users\\powertech\\.conda\\envs\\depi_env\\lib\\site-packages (from matplotlib) (3.2.1)\n",
      "Requirement already satisfied: python-dateutil>=2.7 in c:\\users\\powertech\\.conda\\envs\\depi_env\\lib\\site-packages (from matplotlib) (2.9.0.post0)\n",
      "Requirement already satisfied: six>=1.5 in c:\\users\\powertech\\.conda\\envs\\depi_env\\lib\\site-packages (from python-dateutil>=2.7->matplotlib) (1.16.0)\n"
     ]
    },
    {
     "name": "stderr",
     "output_type": "stream",
     "text": [
      "WARNING: Ignoring invalid distribution -atplotlib (c:\\users\\powertech\\.conda\\envs\\depi_env\\lib\\site-packages)\n",
      "WARNING: Ignoring invalid distribution -atplotlib (c:\\users\\powertech\\.conda\\envs\\depi_env\\lib\\site-packages)\n",
      "WARNING: Ignoring invalid distribution -atplotlib (c:\\users\\powertech\\.conda\\envs\\depi_env\\lib\\site-packages)\n"
     ]
    }
   ],
   "source": [
    "!pip install matplotlib"
   ]
  },
  {
   "cell_type": "code",
   "execution_count": 5,
   "metadata": {},
   "outputs": [],
   "source": [
    "# Import\n",
    "import pandas as pd\n",
    "import numpy as np\n"
   ]
  },
  {
   "cell_type": "code",
   "execution_count": 6,
   "metadata": {},
   "outputs": [
    {
     "data": {
      "text/plain": [
       "Date                0\n",
       "Time                0\n",
       "Service Category    2\n",
       "Technician          0\n",
       "Ad Spend            0\n",
       "Conversions         0\n",
       "Revenue             0\n",
       "Client Type         0\n",
       "dtype: int64"
      ]
     },
     "execution_count": 6,
     "metadata": {},
     "output_type": "execute_result"
    }
   ],
   "source": [
    "# Identify missing values\n",
    "df.isnull().sum()"
   ]
  },
  {
   "cell_type": "code",
   "execution_count": 7,
   "metadata": {},
   "outputs": [
    {
     "data": {
      "text/plain": [
       "0       False\n",
       "1       False\n",
       "2       False\n",
       "3       False\n",
       "4       False\n",
       "        ...  \n",
       "1995    False\n",
       "1996    False\n",
       "1997    False\n",
       "1998    False\n",
       "1999    False\n",
       "Length: 2000, dtype: bool"
      ]
     },
     "execution_count": 7,
     "metadata": {},
     "output_type": "execute_result"
    }
   ],
   "source": [
    "# Identify duplicated values \n",
    "df.duplicated()"
   ]
  },
  {
   "cell_type": "code",
   "execution_count": 8,
   "metadata": {},
   "outputs": [
    {
     "data": {
      "text/plain": [
       "0"
      ]
     },
     "execution_count": 8,
     "metadata": {},
     "output_type": "execute_result"
    }
   ],
   "source": [
    "# count the number of duplicated values \n",
    "df.duplicated().sum()"
   ]
  },
  {
   "cell_type": "code",
   "execution_count": 9,
   "metadata": {},
   "outputs": [
    {
     "data": {
      "text/plain": [
       "Date                2025-03-31\n",
       "Time                   Evening\n",
       "Service Category           Age\n",
       "Technician               Carly\n",
       "Ad Spend                 61.71\n",
       "Conversions                  8\n",
       "Revenue                 107.26\n",
       "Client Type              Loyal\n",
       "Name: 1, dtype: object"
      ]
     },
     "execution_count": 9,
     "metadata": {},
     "output_type": "execute_result"
    }
   ],
   "source": [
    "# getting values for row 1 as labeled \n",
    "# we can search with numbers or text \n",
    "df.loc[1]"
   ]
  },
  {
   "cell_type": "code",
   "execution_count": 10,
   "metadata": {},
   "outputs": [
    {
     "data": {
      "text/plain": [
       "Date                2025-03-31\n",
       "Time                   Evening\n",
       "Service Category           Age\n",
       "Technician               Carly\n",
       "Ad Spend                 61.71\n",
       "Conversions                  8\n",
       "Revenue                 107.26\n",
       "Client Type              Loyal\n",
       "Name: 1, dtype: object"
      ]
     },
     "execution_count": 10,
     "metadata": {},
     "output_type": "execute_result"
    }
   ],
   "source": [
    "#getting values for row 1 according to creating an index, then choosing index related to it's creation\n",
    "# here we can't get index for text \n",
    "df.iloc[1]"
   ]
  },
  {
   "cell_type": "code",
   "execution_count": null,
   "metadata": {},
   "outputs": [],
   "source": []
  },
  {
   "cell_type": "markdown",
   "metadata": {},
   "source": [
    " ## Load and Preprocess Data"
   ]
  },
  {
   "cell_type": "code",
   "execution_count": 11,
   "metadata": {},
   "outputs": [],
   "source": [
    "import pandas as pd\n",
    "import matplotlib.pyplot as plt\n",
    "import seaborn as sns\n",
    "import numpy as np\n",
    "from datetime import datetime"
   ]
  },
  {
   "cell_type": "markdown",
   "metadata": {},
   "source": [
    "##  Milestone 1: High-Value Service Analysis\n",
    "### A. Group by Service and Aggregate Revenue/Conversion"
   ]
  },
  {
   "cell_type": "code",
   "execution_count": null,
   "metadata": {},
   "outputs": [],
   "source": [
    "# Revenue and conversion performance by service\n",
    "service_stats = df.groupby('Service Category').agg({\n",
    "    'Conversions': 'sum',\n",
    "    'Revenue': 'sum',\n",
    "    'Ad Spend': 'sum'\n",
    "}).reset_index()\n",
    "\n",
    "# Add value per customer and ROI metrics\n",
    "service_stats['Revenue per Conversion'] = service_stats['Revenue'] / service_stats['Conversions']\n",
    "service_stats['ROI'] = service_stats['Revenue'] / service_stats['Ad Spend']\n",
    "\n",
    "# Sort by highest value customers\n",
    "top_services = service_stats.sort_values(by='Revenue per Conversion', ascending=False)\n",
    "print(top_services)"
   ]
  },
  {
   "cell_type": "markdown",
   "metadata": {},
   "source": [
    "## Insights\n",
    "## Total Impressions: 67,662,113\n",
    "\n",
    "Indicates extensive market reach and brand visibility\n",
    "Represents the number of times ads were displayed to potential customers\n",
    "\n",
    "\n",
    "## Total Clicks: 33,987,379\n",
    "\n",
    "Strong engagement rate with approximately 50.23% click-through rate (CTR)\n",
    "Suggests highly compelling and targeted advertising content\n",
    "\n",
    "\n",
    "## Total Conversions: 17,090,707\n",
    "\n",
    "Impressive conversion volume, translating to about 50.29% of clicks resulting in conversions\n",
    "Demonstrates effective marketing strategies and high-quality traffic\n",
    "\n",
    "## Financial Performance:\n",
    "\n",
    "Total Ad Spend: $6,882,636\n",
    "Total Revenue Generated: $17,905,842\n",
    "Return on Ad Spend (ROAS): 2.60\n",
    "\n",
    "For every $1 spent on advertising, the campaign generated $2.60 in revenue\n",
    "Indicates a highly profitable marketing approach\n",
    "\n",
    "\n",
    "## Key Insights:\n",
    "\n",
    "High Efficiency: The campaign shows exceptional performance with:\n",
    "\n",
    "Near 50% click-through rate\n",
    "Conversion rate closely matching CTR\n",
    "More than 2.5x return on advertising investment\n",
    "\n",
    "\n",
    "## Marketing Effectiveness:\n",
    "\n",
    "Exceptional ability to not just attract clicks, but convert them into revenue\n",
    "Suggests well-targeted audience and compelling marketing message\n",
    "\n",
    "\n",
    "## Cost-Effectiveness:\n",
    "\n",
    "Low cost per conversion\n",
    "Significant revenue generation relative to marketing expenditure"
   ]
  }
 ],
 "metadata": {
  "kernelspec": {
   "display_name": "depi_env",
   "language": "python",
   "name": "python3"
  },
  "language_info": {
   "codemirror_mode": {
    "name": "ipython",
    "version": 3
   },
   "file_extension": ".py",
   "mimetype": "text/x-python",
   "name": "python",
   "nbconvert_exporter": "python",
   "pygments_lexer": "ipython3",
   "version": "3.10.16"
  }
 },
 "nbformat": 4,
 "nbformat_minor": 2
}
